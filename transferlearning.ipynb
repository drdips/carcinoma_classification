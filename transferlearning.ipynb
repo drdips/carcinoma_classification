{
 "cells": [
  {
   "cell_type": "markdown",
   "metadata": {
    "colab_type": "text",
    "id": "view-in-github"
   },
   "source": [
    "<a href=\"https://colab.research.google.com/github/drdips/carcinoma_classification/blob/master/transferlearning.ipynb\" target=\"_parent\"><img src=\"https://colab.research.google.com/assets/colab-badge.svg\" alt=\"Open In Colab\"/></a>"
   ]
  },
  {
   "cell_type": "markdown",
   "metadata": {},
   "source": [
    "# Transfer Learning Strategies"
   ]
  },
  {
   "cell_type": "code",
   "execution_count": 1,
   "metadata": {
    "colab": {},
    "colab_type": "code",
    "id": "Gk92mkxanSE9"
   },
   "outputs": [],
   "source": [
    "import os\n",
    "os.environ['KAGGLE_USERNAME'] = \"\" # username from the json file\n",
    "os.environ['KAGGLE_KEY'] = \"\" # key from the json file"
   ]
  },
  {
   "cell_type": "code",
   "execution_count": 2,
   "metadata": {
    "colab": {
     "base_uri": "https://localhost:8080/",
     "height": 68
    },
    "colab_type": "code",
    "id": "B11wyWpXvYrT",
    "outputId": "39b11a98-8ce8-45ee-941c-4586849dd68d"
   },
   "outputs": [
    {
     "name": "stdout",
     "output_type": "stream",
     "text": [
      "Downloading breast-histopathology-images.zip to /content\n",
      "100% 3.10G/3.10G [00:39<00:00, 147MB/s]\n",
      "100% 3.10G/3.10G [00:39<00:00, 83.7MB/s]\n"
     ]
    }
   ],
   "source": [
    "!kaggle datasets download -d paultimothymooney/breast-histopathology-images"
   ]
  },
  {
   "cell_type": "code",
   "execution_count": 3,
   "metadata": {
    "colab": {},
    "colab_type": "code",
    "id": "3NRXRr1uvacE"
   },
   "outputs": [],
   "source": [
    "!unzip -q breast-histopathology-images.zip "
   ]
  },
  {
   "cell_type": "code",
   "execution_count": 1,
   "metadata": {
    "colab": {
     "base_uri": "https://localhost:8080/",
     "height": 51
    },
    "colab_type": "code",
    "id": "6Qcrowu3vyj3",
    "outputId": "c26f3ffe-9130-4427-f128-82a88315badb"
   },
   "outputs": [
    {
     "name": "stderr",
     "output_type": "stream",
     "text": [
      "/usr/local/lib/python3.6/dist-packages/statsmodels/tools/_testing.py:19: FutureWarning: pandas.util.testing is deprecated. Use the functions in the public API at pandas.testing instead.\n",
      "  import pandas.util.testing as tm\n"
     ]
    }
   ],
   "source": [
    "import pandas as pd\n",
    "import numpy as np\n",
    "import os\n",
    "from glob import glob\n",
    "import itertools\n",
    "import fnmatch\n",
    "import random\n",
    "import matplotlib.pylab as plt\n",
    "import seaborn as sns\n",
    "import cv2\n",
    "# from scipy.misc import imresize, imread\n",
    "import sklearn\n",
    "from sklearn import model_selection\n",
    "from sklearn.model_selection import train_test_split, KFold, cross_val_score, StratifiedKFold, learning_curve, GridSearchCV\n",
    "from sklearn.metrics import confusion_matrix, make_scorer, accuracy_score\n",
    "from sklearn.linear_model import LogisticRegression\n",
    "from sklearn.tree import DecisionTreeClassifier\n",
    "from sklearn.neighbors import KNeighborsClassifier\n",
    "from sklearn.discriminant_analysis import LinearDiscriminantAnalysis\n",
    "from sklearn.naive_bayes import GaussianNB\n",
    "from sklearn.svm import SVC, LinearSVC\n",
    "from sklearn.ensemble import RandomForestClassifier, GradientBoostingClassifier\n",
    "import keras\n",
    "from keras import backend as K\n",
    "from keras.callbacks import Callback, EarlyStopping, ReduceLROnPlateau, ModelCheckpoint\n",
    "from keras.preprocessing.image import ImageDataGenerator\n",
    "from keras.utils.np_utils import to_categorical\n",
    "from keras.models import Sequential, model_from_json\n",
    "from keras.optimizers import SGD, RMSprop, Adam, Adagrad, Adadelta\n",
    "from keras.layers import Dense, Dropout, Activation, Flatten, BatchNormalization, Conv2D, MaxPool2D, MaxPooling2D\n",
    "%matplotlib inline"
   ]
  },
  {
   "cell_type": "code",
   "execution_count": 3,
   "metadata": {
    "colab": {
     "base_uri": "https://localhost:8080/",
     "height": 272
    },
    "colab_type": "code",
    "id": "ePld_5v3vyai",
    "outputId": "b2c3e742-4db7-4124-8136-f831511c312f"
   },
   "outputs": [
    {
     "name": "stdout",
     "output_type": "stream",
     "text": [
      "/content/IDC_regular_ps50_idx5/10295/1/10295_idx5_x1501_y1901_class1.png\n",
      "/content/IDC_regular_ps50_idx5/10295/1/10295_idx5_x1451_y1451_class1.png\n",
      "/content/IDC_regular_ps50_idx5/10295/1/10295_idx5_x1151_y1601_class1.png\n",
      "/content/IDC_regular_ps50_idx5/10295/1/10295_idx5_x1301_y1551_class1.png\n",
      "/content/IDC_regular_ps50_idx5/10295/1/10295_idx5_x1651_y1351_class1.png\n",
      "/content/IDC_regular_ps50_idx5/10295/1/10295_idx5_x1201_y1901_class1.png\n",
      "/content/IDC_regular_ps50_idx5/10295/1/10295_idx5_x1351_y1951_class1.png\n",
      "/content/IDC_regular_ps50_idx5/10295/1/10295_idx5_x1401_y1701_class1.png\n",
      "/content/IDC_regular_ps50_idx5/10295/1/10295_idx5_x1201_y1851_class1.png\n",
      "/content/IDC_regular_ps50_idx5/10295/1/10295_idx5_x1501_y1701_class1.png\n",
      "/content/IDC_regular_ps50_idx5/10295/1/10295_idx5_x1551_y1801_class1.png\n",
      "/content/IDC_regular_ps50_idx5/10295/1/10295_idx5_x1201_y1801_class1.png\n",
      "/content/IDC_regular_ps50_idx5/10295/1/10295_idx5_x1401_y1651_class1.png\n",
      "/content/IDC_regular_ps50_idx5/10295/1/10295_idx5_x1201_y1701_class1.png\n",
      "/content/IDC_regular_ps50_idx5/10295/1/10295_idx5_x1451_y1401_class1.png\n"
     ]
    }
   ],
   "source": [
    "#let's take a look at if we're in the right folder\n",
    "imagePatches = glob('/content/IDC_regular_ps50_idx5/**/*.png', recursive=True)\n",
    "for filename in imagePatches[0:15]:\n",
    "    print(filename)"
   ]
  },
  {
   "cell_type": "code",
   "execution_count": 4,
   "metadata": {
    "colab": {
     "base_uri": "https://localhost:8080/",
     "height": 156
    },
    "colab_type": "code",
    "id": "37bpBynrvyN3",
    "outputId": "5f28807e-093c-40cf-e1d7-9e507d1a540b"
   },
   "outputs": [
    {
     "name": "stdout",
     "output_type": "stream",
     "text": [
      "IDC(-)\n",
      "\n",
      " ['/content/IDC_regular_ps50_idx5/10295/0/10295_idx5_x1251_y2051_class0.png', '/content/IDC_regular_ps50_idx5/10295/0/10295_idx5_x1251_y1151_class0.png', '/content/IDC_regular_ps50_idx5/10295/0/10295_idx5_x551_y1051_class0.png', '/content/IDC_regular_ps50_idx5/10295/0/10295_idx5_x1201_y1101_class0.png', '/content/IDC_regular_ps50_idx5/10295/0/10295_idx5_x951_y1401_class0.png'] \n",
      "\n",
      "IDC(+)\n",
      "\n",
      " ['/content/IDC_regular_ps50_idx5/10295/1/10295_idx5_x1501_y1901_class1.png', '/content/IDC_regular_ps50_idx5/10295/1/10295_idx5_x1451_y1451_class1.png', '/content/IDC_regular_ps50_idx5/10295/1/10295_idx5_x1151_y1601_class1.png', '/content/IDC_regular_ps50_idx5/10295/1/10295_idx5_x1301_y1551_class1.png', '/content/IDC_regular_ps50_idx5/10295/1/10295_idx5_x1651_y1351_class1.png']\n"
     ]
    }
   ],
   "source": [
    "classZero = '*class0.png'\n",
    "classOne = '*class1.png'\n",
    "classZero = fnmatch.filter(imagePatches, classZero)\n",
    "classOne = fnmatch.filter(imagePatches, classOne)\n",
    "print(\"IDC(-)\\n\\n\",classZero[0:5],'\\n')\n",
    "print(\"IDC(+)\\n\\n\",classOne[0:5])"
   ]
  },
  {
   "cell_type": "markdown",
   "metadata": {},
   "source": [
    "## Pulling our data!"
   ]
  },
  {
   "cell_type": "code",
   "execution_count": 5,
   "metadata": {
    "colab": {},
    "colab_type": "code",
    "id": "ZyBzNMCsvyD5"
   },
   "outputs": [],
   "source": [
    "def proc_images(lowerIndex,upperIndex):\n",
    "    \"\"\"\n",
    "    Returns two arrays: \n",
    "        x is an array of resized images\n",
    "        y is an array of labels\n",
    "    \"\"\" \n",
    "    x = []\n",
    "    y = []\n",
    "    patient = []\n",
    "    WIDTH = 75\n",
    "    HEIGHT = 75\n",
    "\n",
    "\n",
    "    for img in imagePatches[lowerIndex:upperIndex]:\n",
    "        full_size_image = cv2.imread(img)\n",
    "        x.append(cv2.resize(full_size_image, (WIDTH,HEIGHT)))\n",
    "        patient.append(img)\n",
    "\n",
    "\n",
    "        if img in classZero:\n",
    "            y.append(0)\n",
    "        elif img in classOne:\n",
    "            y.append(1)\n",
    "        else:\n",
    "            return\n",
    "    return x,y, patient"
   ]
  },
  {
   "cell_type": "code",
   "execution_count": 6,
   "metadata": {
    "colab": {},
    "colab_type": "code",
    "id": "n5iLOS7SvxvZ"
   },
   "outputs": [],
   "source": [
    "def only_ones(lowerIndex,upperIndex):\n",
    "    \"\"\"\n",
    "    Returns two arrays: \n",
    "        x is an array of resized images\n",
    "        y is an array of labels\n",
    "    \"\"\" \n",
    "    x = []\n",
    "    y = []\n",
    "    patient = []\n",
    "    WIDTH = 75\n",
    "    HEIGHT = 75\n",
    "\n",
    "    for img in imagePatches[lowerIndex:upperIndex]:\n",
    "\n",
    "        if img in classOne:\n",
    "            full_size_image = cv2.imread(img)\n",
    "            x.append(cv2.resize(full_size_image, (WIDTH,HEIGHT)))\n",
    "            patient.append(img)\n",
    "            y.append(1)\n",
    "        elif img in classZero:\n",
    "            continue\n",
    "        else:\n",
    "            return\n",
    "    return x,y, patient"
   ]
  },
  {
   "cell_type": "code",
   "execution_count": 7,
   "metadata": {
    "colab": {},
    "colab_type": "code",
    "id": "ohv3s-gQxhpv"
   },
   "outputs": [],
   "source": [
    "A,B, patient1 = proc_images(0,20000)"
   ]
  },
  {
   "cell_type": "code",
   "execution_count": 8,
   "metadata": {
    "colab": {},
    "colab_type": "code",
    "id": "XfNbCTwoxjIo"
   },
   "outputs": [],
   "source": [
    "#we have a huge imbalance so let's pull some positives \n",
    "C,D, patient2 = only_ones(20001,50000)"
   ]
  },
  {
   "cell_type": "code",
   "execution_count": 9,
   "metadata": {
    "colab": {},
    "colab_type": "code",
    "id": "VABUt2RYxjAY"
   },
   "outputs": [],
   "source": [
    "X = np.concatenate([A, C], axis=0)\n",
    "Y = np.concatenate([B, D], axis=0)\n",
    "patient = np.concatenate([patient1, patient2], axis=0)"
   ]
  },
  {
   "cell_type": "code",
   "execution_count": 10,
   "metadata": {
    "colab": {},
    "colab_type": "code",
    "id": "mDyTHOQpxwra"
   },
   "outputs": [],
   "source": [
    "X_test, Y_test, patient = proc_images(50001,70000)"
   ]
  },
  {
   "cell_type": "markdown",
   "metadata": {},
   "source": [
    "## Let's split our data!"
   ]
  },
  {
   "cell_type": "code",
   "execution_count": 11,
   "metadata": {
    "colab": {},
    "colab_type": "code",
    "id": "Bk1VEGp-xi4V"
   },
   "outputs": [],
   "source": [
    "X_train, X_val, Y_train, Y_val = train_test_split(X, Y, test_size=0.2)\n",
    "# X_train, X_val, Y_train, Y_val = train_test_split(X_model, Y_model, test_size=0.2)"
   ]
  },
  {
   "cell_type": "code",
   "execution_count": 12,
   "metadata": {
    "colab": {},
    "colab_type": "code",
    "id": "JxppT7h5xivg"
   },
   "outputs": [],
   "source": [
    "from keras.utils.np_utils import to_categorical\n",
    "X_train=np.array(X_train)/255\n",
    "y_trainHot = to_categorical(Y_train, num_classes = 2)\n",
    "\n",
    "X_test=np.array(X_test)/255\n",
    "y_testHot = to_categorical(Y_test, num_classes = 2)\n",
    "\n",
    "X_val=np.array(X_val)/255\n",
    "y_valHot = to_categorical(Y_val, num_classes = 2)"
   ]
  },
  {
   "cell_type": "markdown",
   "metadata": {},
   "source": [
    "## Here comes Inception!"
   ]
  },
  {
   "cell_type": "markdown",
   "metadata": {},
   "source": [
    "A google ai blog suggested inception being the best transfer model when it comes to healthcare image recognizition. So let's try it first!"
   ]
  },
  {
   "cell_type": "code",
   "execution_count": 13,
   "metadata": {
    "colab": {},
    "colab_type": "code",
    "id": "Ehaod5q7SNo9"
   },
   "outputs": [],
   "source": [
    "from keras.applications import inception_v3\n",
    "from keras.layers import Dense,GlobalAveragePooling2D\n",
    "from sklearn.metrics import confusion_matrix, f1_score\n",
    "from keras.models import Model"
   ]
  },
  {
   "cell_type": "code",
   "execution_count": 20,
   "metadata": {
    "colab": {},
    "colab_type": "code",
    "id": "P7lT2O4kSNj9"
   },
   "outputs": [],
   "source": [
    "imagenet=inception_v3.InceptionV3(weights='imagenet',include_top=False, input_shape=(75,75,3))\n",
    "imagenet_new=imagenet.output\n",
    "new_model = Sequential()\n",
    "new_model.add(imagenet)\n",
    "new_model.add(GlobalAveragePooling2D())\n",
    "new_model.add(Dense(1024,activation='relu'))\n",
    "# new_model.add(Dense(1024,activation='relu')) #dense layer 2\n",
    "# new_model.add(Dense(512,activation='relu')) #dense layer 3\n",
    "new_model.add(Dense(2,activation='softmax')) #final layer with softmax activation"
   ]
  },
  {
   "cell_type": "code",
   "execution_count": 21,
   "metadata": {
    "colab": {},
    "colab_type": "code",
    "id": "u53ZlX1oSNfd"
   },
   "outputs": [],
   "source": [
    "for layer in new_model.layers[:1]:\n",
    "    layer.trainable=False"
   ]
  },
  {
   "cell_type": "code",
   "execution_count": 30,
   "metadata": {
    "colab": {
     "base_uri": "https://localhost:8080/",
     "height": 357
    },
    "colab_type": "code",
    "id": "8SwYUGpsSNdB",
    "outputId": "425ce979-4012-49a0-ffaf-a6d41c427448"
   },
   "outputs": [
    {
     "name": "stdout",
     "output_type": "stream",
     "text": [
      "Epoch 1/10\n",
      "466/466 [==============================] - 13s 27ms/step - loss: 0.6932 - accuracy: 0.5005 - val_loss: 0.6932 - val_accuracy: 0.5250\n",
      "Epoch 2/10\n",
      "466/466 [==============================] - 11s 25ms/step - loss: 0.6931 - accuracy: 0.5018 - val_loss: 0.6931 - val_accuracy: 0.5664\n",
      "Epoch 3/10\n",
      "466/466 [==============================] - 11s 24ms/step - loss: 0.6931 - accuracy: 0.5024 - val_loss: 0.6931 - val_accuracy: 0.4709\n",
      "Epoch 4/10\n",
      "466/466 [==============================] - 11s 25ms/step - loss: 0.6931 - accuracy: 0.5048 - val_loss: 0.6931 - val_accuracy: 0.5135\n",
      "Epoch 5/10\n",
      "466/466 [==============================] - 11s 25ms/step - loss: 0.6931 - accuracy: 0.5028 - val_loss: 0.6931 - val_accuracy: 0.4946\n",
      "Epoch 6/10\n",
      "466/466 [==============================] - 11s 24ms/step - loss: 0.6931 - accuracy: 0.5042 - val_loss: 0.6931 - val_accuracy: 0.5319\n",
      "Epoch 7/10\n",
      "466/466 [==============================] - 11s 25ms/step - loss: 0.6931 - accuracy: 0.5032 - val_loss: 0.6931 - val_accuracy: 0.5021\n",
      "Epoch 8/10\n",
      "466/466 [==============================] - 11s 25ms/step - loss: 0.6931 - accuracy: 0.5066 - val_loss: 0.6931 - val_accuracy: 0.4633\n",
      "Epoch 9/10\n",
      "466/466 [==============================] - 11s 25ms/step - loss: 0.6931 - accuracy: 0.5005 - val_loss: 0.6931 - val_accuracy: 0.5224\n",
      "Epoch 10/10\n",
      "466/466 [==============================] - 11s 24ms/step - loss: 0.6931 - accuracy: 0.5071 - val_loss: 0.6931 - val_accuracy: 0.5197\n"
     ]
    }
   ],
   "source": [
    "new_model.compile(optimizer='Adam',loss='binary_crossentropy',metrics=['accuracy'])\n",
    "\n",
    "# step_size_train=train_generator.n//train_generator.batch_size\n",
    "history = new_model.fit(X_train,\n",
    "          Y_train,\n",
    "          epochs=10,\n",
    "          batch_size=50,\n",
    "          validation_data=(X_val, Y_val))"
   ]
  },
  {
   "cell_type": "code",
   "execution_count": 23,
   "metadata": {
    "colab": {},
    "colab_type": "code",
    "id": "-sVllrb6T4oJ"
   },
   "outputs": [],
   "source": [
    "def plot_confusion_matrix(cm, classes,\n",
    "                          normalize=False,\n",
    "                          title='Confusion matrix',\n",
    "                          cmap=plt.cm.Blues):\n",
    "    \"\"\"\n",
    "    This function prints and plots the confusion matrix.\n",
    "    Normalization can be applied by setting `normalize=True`.\n",
    "    \"\"\"\n",
    "    plt.figure(figsize = (5,5))\n",
    "    plt.imshow(cm, interpolation='nearest', cmap=cmap)\n",
    "    plt.title(title)\n",
    "    plt.colorbar()\n",
    "    tick_marks = np.arange(len(classes))\n",
    "    plt.xticks(tick_marks, classes, rotation=90)\n",
    "    plt.yticks(tick_marks, classes)\n",
    "    if normalize:\n",
    "        cm = cm.astype('float') / cm.sum(axis=1)[:, np.newaxis]\n",
    "\n",
    "    thresh = cm.max() / 2.\n",
    "    for i, j in itertools.product(range(cm.shape[0]), range(cm.shape[1])):\n",
    "        plt.text(j, i, cm[i, j],\n",
    "                 horizontalalignment=\"center\",\n",
    "                 color=\"white\" if cm[i, j] > thresh else \"black\")\n",
    "    plt.tight_layout()\n",
    "    plt.ylabel('True label')\n",
    "    plt.xlabel('Predicted label')"
   ]
  },
  {
   "cell_type": "code",
   "execution_count": 31,
   "metadata": {
    "colab": {
     "base_uri": "https://localhost:8080/",
     "height": 362
    },
    "colab_type": "code",
    "id": "n3oBMmdESNao",
    "outputId": "bb8babd9-d0d9-4b18-82bd-3a73b8b259f5"
   },
   "outputs": [
    {
     "data": {
      "image/png": "[encoded data removed]",
      "text/plain": [
       "<Figure size 360x360 with 2 Axes>"
      ]
     },
     "metadata": {
      "needs_background": "light",
      "tags": []
     },
     "output_type": "display_data"
    }
   ],
   "source": [
    "y_pred = new_model.predict(X_test)\n",
    "Y_pred_classes = np.argmax(y_pred,axis=1) \n",
    "Y_true = np.argmax(y_testHot,axis=1)\n",
    "dict_characters = {0: 'IDC(-)', 1: 'IDC(+)'}\n",
    "confusion_mtx = confusion_matrix(Y_true, Y_pred_classes) \n",
    "plot_confusion_matrix(confusion_mtx, classes = list(dict_characters.values())) \n",
    "plt.show()"
   ]
  },
  {
   "cell_type": "code",
   "execution_count": 32,
   "metadata": {
    "colab": {
     "base_uri": "https://localhost:8080/",
     "height": 170
    },
    "colab_type": "code",
    "id": "bcEVuQDxSNYA",
    "outputId": "ebf87ba1-9085-4fb9-9a0b-8006ebdeaa62"
   },
   "outputs": [
    {
     "name": "stdout",
     "output_type": "stream",
     "text": [
      "              precision    recall  f1-score   support\n",
      "\n",
      "     IDC (-)       0.77      0.26      0.39     14821\n",
      "     IDC (+)       0.27      0.78      0.40      5178\n",
      "\n",
      "    accuracy                           0.39     19999\n",
      "   macro avg       0.52      0.52      0.39     19999\n",
      "weighted avg       0.64      0.39      0.39     19999\n",
      "\n"
     ]
    }
   ],
   "source": [
    "from sklearn.metrics import classification_report\n",
    "print(classification_report(Y_true, Y_pred_classes, target_names = ['IDC (-)','IDC (+)']))"
   ]
  },
  {
   "cell_type": "code",
   "execution_count": 34,
   "metadata": {
    "colab": {
     "base_uri": "https://localhost:8080/",
     "height": 404
    },
    "colab_type": "code",
    "id": "UGtOfQrUSNQR",
    "outputId": "6037b568-e726-49f1-aacd-1026e8b2e767",
    "scrolled": false
   },
   "outputs": [
    {
     "data": {
      "image/png": "[encoded data removed]",
      "text/plain": [
       "<Figure size 720x432 with 2 Axes>"
      ]
     },
     "metadata": {
      "needs_background": "light",
      "tags": []
     },
     "output_type": "display_data"
    }
   ],
   "source": [
    "epochs = [i for i in range(10)]\n",
    "fig , ax = plt.subplots(1,2)\n",
    "train_acc = history.history['accuracy']\n",
    "train_loss = history.history['loss']\n",
    "val_acc = history.history['val_accuracy']\n",
    "val_loss = history.history['val_loss']\n",
    "fig.set_size_inches(10,6)\n",
    "\n",
    "ax[0].plot(epochs , train_acc , 'go-' , label = 'Training Accuracy')\n",
    "ax[0].plot(epochs , val_acc , 'ro-' , label = 'Validation Accuracy')\n",
    "ax[0].set_title('Training & Validation Accuracy')\n",
    "ax[0].legend()\n",
    "ax[0].set_xlabel(\"Epochs\")\n",
    "ax[0].set_ylabel(\"Accuracy\")\n",
    "\n",
    "ax[1].plot(epochs , train_loss , 'g-o' , label = 'Training Loss')\n",
    "ax[1].plot(epochs , val_loss , 'r-o' , label = 'Validation Loss')\n",
    "ax[1].set_title('Testing Accuracy & Loss')\n",
    "ax[1].legend()\n",
    "ax[1].set_xlabel(\"Epochs\")\n",
    "ax[1].set_ylabel(\"Training & Validation Loss\")\n",
    "plt.show()"
   ]
  },
  {
   "cell_type": "markdown",
   "metadata": {
    "colab_type": "text",
    "id": "8YjzkY6XyzdG"
   },
   "source": [
    "Not as well as I thought, the model definitely overfit the positive cases in this case. Time to move on to other transfer learning models"
   ]
  },
  {
   "cell_type": "code",
   "execution_count": null,
   "metadata": {},
   "outputs": [],
   "source": []
  }
 ],
 "metadata": {
  "accelerator": "GPU",
  "colab": {
   "authorship_tag": "ABX9TyPaazHjygt/Xh88xekPeRMO",
   "collapsed_sections": [],
   "include_colab_link": true,
   "machine_shape": "hm",
   "name": "transferlearning.ipynb",
   "provenance": []
  },
  "kernelspec": {
   "display_name": "Python 3",
   "language": "python",
   "name": "python3"
  },
  "language_info": {
   "codemirror_mode": {
    "name": "ipython",
    "version": 3
   },
   "file_extension": ".py",
   "mimetype": "text/x-python",
   "name": "python",
   "nbconvert_exporter": "python",
   "pygments_lexer": "ipython3",
   "version": "3.7.7"
  }
 },
 "nbformat": 4,
 "nbformat_minor": 1
}
